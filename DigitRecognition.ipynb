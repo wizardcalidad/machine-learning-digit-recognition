{
 "cells": [
  {
   "cell_type": "code",
   "execution_count": 1,
   "id": "6425fb55-e341-4fbc-9674-6acb1dbbe09e",
   "metadata": {},
   "outputs": [],
   "source": [
    "import numpy as np\n",
    "import random\n",
    "import matplotlib.pyplot as plt\n",
    "import pylab as pl\n",
    "\n",
    "from sklearn.datasets import load_digits"
   ]
  },
  {
   "cell_type": "code",
   "execution_count": 2,
   "id": "82b15628-e833-42a5-9e39-14cc4b637df1",
   "metadata": {},
   "outputs": [],
   "source": [
    "digits=load_digits()"
   ]
  },
  {
   "cell_type": "code",
   "execution_count": 3,
   "id": "396ea715-a775-44df-a5a2-2ae969cff71d",
   "metadata": {},
   "outputs": [
    {
     "data": {
      "text/plain": [
       "<Figure size 432x288 with 0 Axes>"
      ]
     },
     "metadata": {},
     "output_type": "display_data"
    },
    {
     "data": {
      "image/png": "[encoded data removed]",
      "text/plain": [
       "<Figure size 288x288 with 1 Axes>"
      ]
     },
     "metadata": {
      "needs_background": "light"
     },
     "output_type": "display_data"
    }
   ],
   "source": [
    "pl.gray()\n",
    "pl.matshow(digits.images[0])\n",
    "pl.show()"
   ]
  },
  {
   "cell_type": "code",
   "execution_count": 4,
   "id": "8b61e2b0-619f-49cf-8a71-992634e5e96d",
   "metadata": {},
   "outputs": [
    {
     "data": {
      "text/plain": [
       "array([[ 0.,  0.,  5., 13.,  9.,  1.,  0.,  0.],\n",
       "       [ 0.,  0., 13., 15., 10., 15.,  5.,  0.],\n",
       "       [ 0.,  3., 15.,  2.,  0., 11.,  8.,  0.],\n",
       "       [ 0.,  4., 12.,  0.,  0.,  8.,  8.,  0.],\n",
       "       [ 0.,  5.,  8.,  0.,  0.,  9.,  8.,  0.],\n",
       "       [ 0.,  4., 11.,  0.,  1., 12.,  7.,  0.],\n",
       "       [ 0.,  2., 14.,  5., 10., 12.,  0.,  0.],\n",
       "       [ 0.,  0.,  6., 13., 10.,  0.,  0.,  0.]])"
      ]
     },
     "execution_count": 4,
     "metadata": {},
     "output_type": "execute_result"
    }
   ],
   "source": [
    "digits.images[0]"
   ]
  },
  {
   "cell_type": "code",
   "execution_count": 5,
   "id": "630d0573-93cd-4185-905f-3a21f8ce0f35",
   "metadata": {},
   "outputs": [
    {
     "data": {
      "text/plain": [
       "0"
      ]
     },
     "execution_count": 5,
     "metadata": {},
     "output_type": "execute_result"
    }
   ],
   "source": [
    "digits.target[0]"
   ]
  },
  {
   "cell_type": "code",
   "execution_count": 6,
   "id": "89deb5f8-7d25-410a-b8eb-0b3f74c53e97",
   "metadata": {},
   "outputs": [
    {
     "data": {
      "image/png": "[encoded data removed]",
      "text/plain": [
       "<Figure size 360x360 with 15 Axes>"
      ]
     },
     "metadata": {
      "needs_background": "light"
     },
     "output_type": "display_data"
    }
   ],
   "source": [
    "images_and_labels=list(zip(digits.images,digits.target))\n",
    "plt.figure(figsize=(5,5))\n",
    "for index,(image,label) in enumerate(images_and_labels[:15]):\n",
    "    plt.subplot(3,5,index+1)\n",
    "    plt.axis('off')\n",
    "    plt.imshow(image,cmap=plt.cm.gray_r,interpolation='nearest')\n",
    "    plt.title('%i' % label)"
   ]
  },
  {
   "cell_type": "code",
   "execution_count": 7,
   "id": "257f167a-c159-4bc5-af10-2209af193e26",
   "metadata": {},
   "outputs": [
    {
     "name": "stdout",
     "output_type": "stream",
     "text": [
      "1797\n",
      "(1797, 64)\n"
     ]
    }
   ],
   "source": [
    "#Define variables\n",
    "n_samples=len(digits.images)\n",
    "print(n_samples)\n",
    "\n",
    "x=digits.images.reshape((n_samples,-1))\n",
    "print(x.shape)"
   ]
  },
  {
   "cell_type": "code",
   "execution_count": 8,
   "id": "0238b304-72fd-4dcc-afdd-79a47942c227",
   "metadata": {},
   "outputs": [
    {
     "name": "stdout",
     "output_type": "stream",
     "text": [
      "(1797,)\n"
     ]
    }
   ],
   "source": [
    "y=digits.target\n",
    "print(y.shape)"
   ]
  },
  {
   "cell_type": "code",
   "execution_count": 9,
   "id": "223b66a6-ca4a-41f6-8289-9243b7863eb3",
   "metadata": {},
   "outputs": [],
   "source": [
    "from sklearn.model_selection import train_test_split\n",
    "X_train, X_test, y_train, y_test = train_test_split(x, y, test_size = 0.2, random_state = 0)"
   ]
  },
  {
   "cell_type": "code",
   "execution_count": 10,
   "id": "03dc4aca-12ab-49c9-8e98-36fd5a918b72",
   "metadata": {},
   "outputs": [],
   "source": [
    "# Feature Scaling\n",
    "from sklearn.preprocessing import StandardScaler\n",
    "sc = StandardScaler()\n",
    "X_train = sc.fit_transform(X_train)\n",
    "X_test = sc.transform(X_test)"
   ]
  },
  {
   "cell_type": "code",
   "execution_count": 11,
   "id": "c1a132f9-ae39-43a9-bb25-e41b90d01f37",
   "metadata": {},
   "outputs": [],
   "source": [
    "X_train=X_train.T\n",
    "X_test=X_test.T\n",
    "y_train=y_train.reshape(y_train.shape[0],1)\n",
    "y_test=y_test.reshape(y_test.shape[0],1)\n",
    "y_train=y_train.T\n",
    "y_test=y_test.T"
   ]
  },
  {
   "cell_type": "code",
   "execution_count": 12,
   "id": "7ee99edf-0768-4056-8c4f-270d3905e6b9",
   "metadata": {},
   "outputs": [],
   "source": [
    "Y_train_=np.zeros((10,y_train.shape[1]))\n",
    "for i in range(y_train.shape[1]):\n",
    "    Y_train_[y_train[0,i],i]=1"
   ]
  },
  {
   "cell_type": "code",
   "execution_count": 13,
   "id": "b38cbb72-0e8e-4bfb-8b14-2fb646b5fd8f",
   "metadata": {},
   "outputs": [],
   "source": [
    "Y_test_=np.zeros((10,y_test.shape[1]))\n",
    "for i in range(y_test.shape[1]):\n",
    "    Y_test_[y_test[0,i],i]=1"
   ]
  },
  {
   "cell_type": "code",
   "execution_count": 14,
   "id": "e2a9c98d-7170-438c-b928-6d87e288dd2e",
   "metadata": {},
   "outputs": [],
   "source": [
    "n_x=X_train.shape[0]\n",
    "n_h=10\n",
    "n_y=Y_train_.shape[0]"
   ]
  },
  {
   "cell_type": "code",
   "execution_count": 15,
   "id": "541c4360-a99e-4d65-890e-9601c7aaf8c5",
   "metadata": {},
   "outputs": [],
   "source": [
    "# initialize parameters for deep neural networks\n",
    "def initialize_parameters_deep(layer_dims):\n",
    "    np.random.seed(3)\n",
    "    parameters = {}\n",
    "    L = len(layer_dims) \n",
    "    for l in range(1, L):\n",
    "        parameters['W' + str(l)] = np.random.randn(layer_dims[l],layer_dims[l-1])*0.01\n",
    "        parameters['b' + str(l)] = np.zeros((layer_dims[l],1))\n",
    "        \n",
    "        assert(parameters['W' + str(l)].shape == (layer_dims[l], layer_dims[l-1]))\n",
    "        assert(parameters['b' + str(l)].shape == (layer_dims[l], 1))\n",
    "    return parameters"
   ]
  },
  {
   "cell_type": "code",
   "execution_count": 16,
   "id": "c1d3860f-7fa3-4498-b434-8dcc065e29d6",
   "metadata": {},
   "outputs": [],
   "source": [
    "def linear_forward(A, W, b):\n",
    "    Z = np.dot(W,A)+b\n",
    "    assert(Z.shape == (W.shape[0], A.shape[1]))\n",
    "    cache = (A, W, b)\n",
    "    \n",
    "    return Z, cache"
   ]
  },
  {
   "cell_type": "code",
   "execution_count": 17,
   "id": "09a5795c-b515-46b6-883a-2294ce56fa1e",
   "metadata": {},
   "outputs": [],
   "source": [
    "# use ful activation functions and their derivatives\n",
    "def sigmoid_(Z):\n",
    "    return 1/(1+np.exp(-Z))\n",
    "\n",
    "def relu_(Z):\n",
    "    return Z*(Z>0)\n",
    "\n",
    "def drelu_(Z):\n",
    "    return 1. *(Z>0)\n",
    "\n",
    "def dsigmoid_(Z):\n",
    "    return sigmoid_(Z)*(1-sigmoid_(Z))\n",
    "\n",
    "def sigmoid(Z):\n",
    "    return sigmoid_(Z),Z\n",
    "\n",
    "def relu(Z):\n",
    "    return relu_(Z),Z"
   ]
  },
  {
   "cell_type": "code",
   "execution_count": 18,
   "id": "243f6e73-9654-416a-b699-45d112fa75d3",
   "metadata": {},
   "outputs": [],
   "source": [
    "def linear_activation_forward(A_prev,W,b,activation):\n",
    "    if activation == \"sigmoid\":\n",
    "        Z, linear_cache = linear_forward(A_prev,W,b)\n",
    "        A, activation_cache = sigmoid(Z)\n",
    "        \n",
    "    elif activation == \"relu\":\n",
    "        Z, linear_cache = linear_forward(A_prev,W,b)\n",
    "        A, activation_cache = relu(Z)\n",
    "        \n",
    "    assert (A.shape == (W.shape[0], A_prev.shape[1]))\n",
    "    cache = (linear_cache, activation_cache)\n",
    "    \n",
    "    return A, cache"
   ]
  },
  {
   "cell_type": "code",
   "execution_count": 19,
   "id": "ae2d8151-935e-4ded-a87a-44f0441ec07f",
   "metadata": {},
   "outputs": [],
   "source": [
    "# implementation of forward propogation for L layer neural network\n",
    "def L_model_forward(X, parameters):\n",
    "    caches = []\n",
    "    A = X\n",
    "    L = len(parameters) // 2   \n",
    "    for l in range(1, L):\n",
    "        A_prev = A \n",
    "        A, cache = linear_activation_forward(A_prev,parameters['W'+str(l)],parameters['b'+str(l)],\"relu\")\n",
    "        caches.append(cache)\n",
    "    AL, cache = linear_activation_forward(A,parameters['W'+str(L)],parameters['b'+str(L)],\"sigmoid\")\n",
    "    caches.append(cache)\n",
    "    #assert(AL.shape == (1,X.shape[1]))\n",
    "    return AL, caches"
   ]
  },
  {
   "cell_type": "code",
   "execution_count": 20,
   "id": "17a4f6f0-bc73-4cb6-8877-4e1d80c3fe6c",
   "metadata": {},
   "outputs": [],
   "source": [
    "# cost function\n",
    "def compute_cost(AL, Y):\n",
    "    m=Y.shape[1]\n",
    "    cost = -(1/m)*np.sum((Y*np.log(AL)+(1-Y)*np.log(1-AL)))\n",
    "    cost=np.squeeze(cost)\n",
    "    assert(cost.shape == ())\n",
    "    return cost"
   ]
  },
  {
   "cell_type": "code",
   "execution_count": 21,
   "id": "6c751f87-9f22-4133-a342-3813eda0a9b9",
   "metadata": {},
   "outputs": [],
   "source": [
    "def linear_backward(dZ, cache):\n",
    "    A_prev, W, b = cache\n",
    "    m = A_prev.shape[1]\n",
    "    dW = (1/m)*np.dot(dZ,A_prev.T)\n",
    "    db = (1/m)*np.sum(dZ,axis=1,keepdims=True)\n",
    "    dA_prev = np.dot(W.T,dZ)\n",
    "    \n",
    "    assert (dA_prev.shape == A_prev.shape)\n",
    "    assert (dW.shape == W.shape)\n",
    "    assert (db.shape == b.shape)\n",
    "    \n",
    "    return dA_prev, dW, db"
   ]
  },
  {
   "cell_type": "code",
   "execution_count": 22,
   "id": "42e8979c-b3c4-4aeb-a9f6-80efebb1c92d",
   "metadata": {},
   "outputs": [],
   "source": [
    "def relu_backward(dA,activation_cache):\n",
    "    return dA* drelu_(activation_cache)"
   ]
  },
  {
   "cell_type": "code",
   "execution_count": 23,
   "id": "bce76769-83fc-47b8-a625-9e48f106760b",
   "metadata": {},
   "outputs": [],
   "source": [
    "def sigmoid_backward(dA,activation_cache):\n",
    "    return dA* dsigmoid_(activation_cache)"
   ]
  },
  {
   "cell_type": "code",
   "execution_count": 24,
   "id": "c857c938-2de8-411e-a8a4-3b6dc436544d",
   "metadata": {},
   "outputs": [],
   "source": [
    "def linear_activation_backward(dA, cache, activation):\n",
    "    linear_cache, activation_cache = cache\n",
    "    if activation == \"relu\":\n",
    "        dZ = relu_backward(dA,activation_cache)\n",
    "        dA_prev, dW, db = linear_backward(dZ,linear_cache)\n",
    "    \n",
    "    elif activation == \"sigmoid\":\n",
    "        dZ = sigmoid_backward(dA,activation_cache)\n",
    "        dA_prev, dW, db = linear_backward(dZ,linear_cache)\n",
    "    return dA_prev,dW,db"
   ]
  },
  {
   "cell_type": "code",
   "execution_count": 25,
   "id": "51ff4a33-bbc8-454e-85ba-c377a17ae0e5",
   "metadata": {},
   "outputs": [],
   "source": [
    "# back propogation for L layers\n",
    "def L_model_backward(AL, Y, caches):\n",
    "    grads = {}\n",
    "    L = len(caches)\n",
    "    m = AL.shape[1]\n",
    "    #Y = Y.reshape(AL.shape)\n",
    "    \n",
    "    dAL = - (np.divide(Y, AL) - np.divide(1 - Y, 1 - AL))\n",
    "    \n",
    "    current_cache = caches[L-1]\n",
    "    grads[\"dA\" + str(L-1)], grads[\"dW\" + str(L)], grads[\"db\" + str(L)] = linear_activation_backward(dAL,current_cache,\"sigmoid\")\n",
    "    \n",
    "    for l in reversed(range(L-1)):\n",
    "        current_cache = caches[l]\n",
    "        dA_prev_temp, dW_temp, db_temp = linear_activation_backward(grads[\"dA\"+str(l+1)],current_cache,\"relu\")\n",
    "        grads[\"dA\" + str(l)] = dA_prev_temp\n",
    "        grads[\"dW\" + str(l + 1)] = dW_temp\n",
    "        grads[\"db\" + str(l + 1)] = db_temp\n",
    "    return grads"
   ]
  },
  {
   "cell_type": "code",
   "execution_count": 26,
   "id": "98ac416c-8d0e-425d-b228-7efdbc6a466b",
   "metadata": {},
   "outputs": [],
   "source": [
    "#update parameters\n",
    "def update_parameters(parameters, grads, learning_rate):\n",
    "    L = len(parameters) // 2 \n",
    "    for l in range(L):\n",
    "        parameters[\"W\" + str(l+1)] = parameters[\"W\" + str(l+1)]-(learning_rate)*grads[\"dW\"+str(l+1)] \n",
    "        parameters[\"b\" + str(l+1)] = parameters[\"b\" + str(l+1)]-(learning_rate)*grads[\"db\"+str(l+1)]\n",
    "    return parameters"
   ]
  },
  {
   "cell_type": "code",
   "execution_count": 27,
   "id": "6a5edb63-0388-4dba-8b11-cd80c88392c6",
   "metadata": {},
   "outputs": [],
   "source": [
    "# N layer neural network\n",
    "layers_dims=[n_x,60,10,10]\n",
    "\n",
    "def L_layer_model(X, Y, layers_dims, learning_rate = 0.005, num_iterations = 3000, print_cost=False):\n",
    "    np.random.seed(1)\n",
    "    costs = [] \n",
    "    \n",
    "    parameters = initialize_parameters_deep(layers_dims)\n",
    "    \n",
    "    for i in range(0, num_iterations):\n",
    "        AL, caches = L_model_forward(X, parameters)\n",
    "        cost = compute_cost(AL, Y)\n",
    "        grads = L_model_backward(AL, Y, caches)\n",
    "        parameters = update_parameters(parameters, grads, learning_rate)\n",
    "        if print_cost and i % 1000 == 0:\n",
    "            print (\"Cost after iteration %i: %f\" %(i, cost))\n",
    "        if print_cost and i % 1000 == 0:\n",
    "            costs.append(cost)\n",
    "    # plot the cost\n",
    "    plt.plot(np.squeeze(costs))\n",
    "    plt.ylabel('cost')\n",
    "    plt.xlabel('iterations (per tens)')\n",
    "    plt.title(\"Learning rate =\" + str(learning_rate))\n",
    "    plt.show()\n",
    "    \n",
    "    return parameters"
   ]
  },
  {
   "cell_type": "code",
   "execution_count": 28,
   "id": "86f85134-6c61-4498-815f-a5563699a438",
   "metadata": {},
   "outputs": [
    {
     "name": "stdout",
     "output_type": "stream",
     "text": [
      "Cost after iteration 0: 6.931433\n",
      "Cost after iteration 1000: 3.774829\n",
      "Cost after iteration 2000: 3.262610\n",
      "Cost after iteration 3000: 3.249175\n",
      "Cost after iteration 4000: 3.248149\n",
      "Cost after iteration 5000: 3.245551\n",
      "Cost after iteration 6000: 3.234484\n",
      "Cost after iteration 7000: 3.108940\n",
      "Cost after iteration 8000: 2.714129\n",
      "Cost after iteration 9000: 2.217460\n",
      "Cost after iteration 10000: 1.924373\n",
      "Cost after iteration 11000: 1.561357\n",
      "Cost after iteration 12000: 1.231272\n",
      "Cost after iteration 13000: 0.951040\n",
      "Cost after iteration 14000: 0.764662\n",
      "Cost after iteration 15000: 0.618042\n",
      "Cost after iteration 16000: 0.489283\n",
      "Cost after iteration 17000: 0.401840\n",
      "Cost after iteration 18000: 0.339931\n",
      "Cost after iteration 19000: 0.289097\n",
      "Cost after iteration 20000: 0.243822\n",
      "Cost after iteration 21000: 0.203796\n",
      "Cost after iteration 22000: 0.171250\n",
      "Cost after iteration 23000: 0.145861\n",
      "Cost after iteration 24000: 0.126011\n",
      "Cost after iteration 25000: 0.109966\n",
      "Cost after iteration 26000: 0.096728\n",
      "Cost after iteration 27000: 0.085565\n",
      "Cost after iteration 28000: 0.075986\n",
      "Cost after iteration 29000: 0.067715\n",
      "Cost after iteration 30000: 0.060625\n",
      "Cost after iteration 31000: 0.054387\n",
      "Cost after iteration 32000: 0.048925\n",
      "Cost after iteration 33000: 0.044133\n",
      "Cost after iteration 34000: 0.039980\n",
      "Cost after iteration 35000: 0.036370\n",
      "Cost after iteration 36000: 0.033191\n",
      "Cost after iteration 37000: 0.030399\n",
      "Cost after iteration 38000: 0.027936\n",
      "Cost after iteration 39000: 0.025773\n",
      "Cost after iteration 40000: 0.023862\n",
      "Cost after iteration 41000: 0.022168\n",
      "Cost after iteration 42000: 0.020654\n",
      "Cost after iteration 43000: 0.019300\n",
      "Cost after iteration 44000: 0.018082\n",
      "Cost after iteration 45000: 0.016986\n",
      "Cost after iteration 46000: 0.015993\n",
      "Cost after iteration 47000: 0.015091\n",
      "Cost after iteration 48000: 0.014269\n",
      "Cost after iteration 49000: 0.013519\n"
     ]
    },
    {
     "data": {
      "image/png": "[encoded data removed]",
      "text/plain": [
       "<Figure size 432x288 with 1 Axes>"
      ]
     },
     "metadata": {
      "needs_background": "light"
     },
     "output_type": "display_data"
    }
   ],
   "source": [
    "parameters = L_layer_model(X_train, Y_train_, layers_dims, num_iterations = 50000, print_cost = True)"
   ]
  },
  {
   "cell_type": "code",
   "execution_count": 31,
   "id": "1fd02b4a-5559-4553-ac0a-d544713616f4",
   "metadata": {},
   "outputs": [],
   "source": [
    "def predict_L_layer(X,parameters):\n",
    "    AL,caches=L_model_forward(X,parameters)\n",
    "    prediction=np.argmax(AL,axis=0)\n",
    "    return prediction.reshape(1,prediction.shape[0])"
   ]
  },
  {
   "cell_type": "code",
   "execution_count": 32,
   "id": "55e33ddb-d07a-4f69-b6a7-0f50630fca9e",
   "metadata": {},
   "outputs": [],
   "source": [
    "predictions_train_L = predict_L_layer(X_train, parameters)"
   ]
  },
  {
   "cell_type": "code",
   "execution_count": 70,
   "id": "dd5568df-a980-4345-9bf6-4ed82b25610a",
   "metadata": {},
   "outputs": [
    {
     "name": "stdout",
     "output_type": "stream",
     "text": [
      "Training Accuracy : 100.0 %\n"
     ]
    }
   ],
   "source": [
    "print(\"Training Accuracy : \"+ str(np.sum(predictions_train_L==y_train)/y_train.shape[1] * 100)+\" %\")"
   ]
  },
  {
   "cell_type": "code",
   "execution_count": 71,
   "id": "3504d3b9-3afd-47f3-a4f3-85bc44f65508",
   "metadata": {},
   "outputs": [],
   "source": [
    "predictions_test_L=predict_L_layer(X_test,parameters)"
   ]
  },
  {
   "cell_type": "code",
   "execution_count": 72,
   "id": "d90bcfbb-5f15-410a-b5ad-8657da61aa70",
   "metadata": {},
   "outputs": [
    {
     "name": "stdout",
     "output_type": "stream",
     "text": [
      "Testing Accuracy : 97.22222222222221 %\n"
     ]
    }
   ],
   "source": [
    "print(\"Testing Accuracy : \"+ str(np.sum(predictions_test_L==y_test)/y_test.shape[1] * 100)+\" %\")"
   ]
  },
  {
   "cell_type": "code",
   "execution_count": 73,
   "id": "1ec05b99-b79e-4a60-8fa4-7d4a4401464b",
   "metadata": {},
   "outputs": [
    {
     "data": {
      "text/plain": [
       "<Figure size 432x288 with 0 Axes>"
      ]
     },
     "metadata": {},
     "output_type": "display_data"
    },
    {
     "data": {
      "image/png": "[encoded data removed]",
      "text/plain": [
       "<Figure size 288x288 with 1 Axes>"
      ]
     },
     "metadata": {
      "needs_background": "light"
     },
     "output_type": "display_data"
    },
    {
     "name": "stdout",
     "output_type": "stream",
     "text": [
      "Predicted digit is : [[8]]\n",
      "True digit is: 8\n"
     ]
    },
    {
     "data": {
      "text/plain": [
       "<Figure size 432x288 with 0 Axes>"
      ]
     },
     "metadata": {},
     "output_type": "display_data"
    },
    {
     "data": {
      "image/png": "[encoded data removed]",
      "text/plain": [
       "<Figure size 288x288 with 1 Axes>"
      ]
     },
     "metadata": {
      "needs_background": "light"
     },
     "output_type": "display_data"
    },
    {
     "name": "stdout",
     "output_type": "stream",
     "text": [
      "Predicted digit is : [[5]]\n",
      "True digit is: 5\n"
     ]
    },
    {
     "data": {
      "text/plain": [
       "<Figure size 432x288 with 0 Axes>"
      ]
     },
     "metadata": {},
     "output_type": "display_data"
    },
    {
     "data": {
      "image/png": "[encoded data removed]",
      "text/plain": [
       "<Figure size 288x288 with 1 Axes>"
      ]
     },
     "metadata": {
      "needs_background": "light"
     },
     "output_type": "display_data"
    },
    {
     "name": "stdout",
     "output_type": "stream",
     "text": [
      "Predicted digit is : [[1]]\n",
      "True digit is: 1\n"
     ]
    },
    {
     "data": {
      "text/plain": [
       "<Figure size 432x288 with 0 Axes>"
      ]
     },
     "metadata": {},
     "output_type": "display_data"
    },
    {
     "data": {
      "image/png": "[encoded data removed]",
      "text/plain": [
       "<Figure size 288x288 with 1 Axes>"
      ]
     },
     "metadata": {
      "needs_background": "light"
     },
     "output_type": "display_data"
    },
    {
     "name": "stdout",
     "output_type": "stream",
     "text": [
      "Predicted digit is : [[0]]\n",
      "True digit is: 0\n"
     ]
    },
    {
     "data": {
      "text/plain": [
       "<Figure size 432x288 with 0 Axes>"
      ]
     },
     "metadata": {},
     "output_type": "display_data"
    },
    {
     "data": {
      "image/png": "[encoded data removed]",
      "text/plain": [
       "<Figure size 288x288 with 1 Axes>"
      ]
     },
     "metadata": {
      "needs_background": "light"
     },
     "output_type": "display_data"
    },
    {
     "name": "stdout",
     "output_type": "stream",
     "text": [
      "Predicted digit is : [[5]]\n",
      "True digit is: 5\n"
     ]
    },
    {
     "data": {
      "text/plain": [
       "<Figure size 432x288 with 0 Axes>"
      ]
     },
     "metadata": {},
     "output_type": "display_data"
    },
    {
     "data": {
      "image/png": "[encoded data removed]",
      "text/plain": [
       "<Figure size 288x288 with 1 Axes>"
      ]
     },
     "metadata": {
      "needs_background": "light"
     },
     "output_type": "display_data"
    },
    {
     "name": "stdout",
     "output_type": "stream",
     "text": [
      "Predicted digit is : [[1]]\n",
      "True digit is: 1\n"
     ]
    },
    {
     "data": {
      "text/plain": [
       "<Figure size 432x288 with 0 Axes>"
      ]
     },
     "metadata": {},
     "output_type": "display_data"
    },
    {
     "data": {
      "image/png": "[encoded data removed]",
      "text/plain": [
       "<Figure size 288x288 with 1 Axes>"
      ]
     },
     "metadata": {
      "needs_background": "light"
     },
     "output_type": "display_data"
    },
    {
     "name": "stdout",
     "output_type": "stream",
     "text": [
      "Predicted digit is : [[1]]\n",
      "True digit is: 1\n"
     ]
    },
    {
     "data": {
      "text/plain": [
       "<Figure size 432x288 with 0 Axes>"
      ]
     },
     "metadata": {},
     "output_type": "display_data"
    },
    {
     "data": {
      "image/png": "[encoded data removed]",
      "text/plain": [
       "<Figure size 288x288 with 1 Axes>"
      ]
     },
     "metadata": {
      "needs_background": "light"
     },
     "output_type": "display_data"
    },
    {
     "name": "stdout",
     "output_type": "stream",
     "text": [
      "Predicted digit is : [[5]]\n",
      "True digit is: 5\n"
     ]
    },
    {
     "data": {
      "text/plain": [
       "<Figure size 432x288 with 0 Axes>"
      ]
     },
     "metadata": {},
     "output_type": "display_data"
    },
    {
     "data": {
      "image/png": "[encoded data removed]",
      "text/plain": [
       "<Figure size 288x288 with 1 Axes>"
      ]
     },
     "metadata": {
      "needs_background": "light"
     },
     "output_type": "display_data"
    },
    {
     "name": "stdout",
     "output_type": "stream",
     "text": [
      "Predicted digit is : [[6]]\n",
      "True digit is: 6\n"
     ]
    },
    {
     "data": {
      "text/plain": [
       "<Figure size 432x288 with 0 Axes>"
      ]
     },
     "metadata": {},
     "output_type": "display_data"
    },
    {
     "data": {
      "image/png": "[encoded data removed]",
      "text/plain": [
       "<Figure size 288x288 with 1 Axes>"
      ]
     },
     "metadata": {
      "needs_background": "light"
     },
     "output_type": "display_data"
    },
    {
     "name": "stdout",
     "output_type": "stream",
     "text": [
      "Predicted digit is : [[6]]\n",
      "True digit is: 6\n"
     ]
    },
    {
     "data": {
      "text/plain": [
       "<Figure size 432x288 with 0 Axes>"
      ]
     },
     "metadata": {},
     "output_type": "display_data"
    },
    {
     "data": {
      "image/png": "[encoded data removed]",
      "text/plain": [
       "<Figure size 288x288 with 1 Axes>"
      ]
     },
     "metadata": {
      "needs_background": "light"
     },
     "output_type": "display_data"
    },
    {
     "name": "stdout",
     "output_type": "stream",
     "text": [
      "Predicted digit is : [[4]]\n",
      "True digit is: 4\n"
     ]
    },
    {
     "data": {
      "text/plain": [
       "<Figure size 432x288 with 0 Axes>"
      ]
     },
     "metadata": {},
     "output_type": "display_data"
    },
    {
     "data": {
      "image/png": "[encoded data removed]",
      "text/plain": [
       "<Figure size 288x288 with 1 Axes>"
      ]
     },
     "metadata": {
      "needs_background": "light"
     },
     "output_type": "display_data"
    },
    {
     "name": "stdout",
     "output_type": "stream",
     "text": [
      "Predicted digit is : [[1]]\n",
      "True digit is: 1\n"
     ]
    },
    {
     "data": {
      "text/plain": [
       "<Figure size 432x288 with 0 Axes>"
      ]
     },
     "metadata": {},
     "output_type": "display_data"
    },
    {
     "data": {
      "image/png": "[encoded data removed]",
      "text/plain": [
       "<Figure size 288x288 with 1 Axes>"
      ]
     },
     "metadata": {
      "needs_background": "light"
     },
     "output_type": "display_data"
    },
    {
     "name": "stdout",
     "output_type": "stream",
     "text": [
      "Predicted digit is : [[7]]\n",
      "True digit is: 7\n"
     ]
    },
    {
     "data": {
      "text/plain": [
       "<Figure size 432x288 with 0 Axes>"
      ]
     },
     "metadata": {},
     "output_type": "display_data"
    },
    {
     "data": {
      "image/png": "[encoded data removed]",
      "text/plain": [
       "<Figure size 288x288 with 1 Axes>"
      ]
     },
     "metadata": {
      "needs_background": "light"
     },
     "output_type": "display_data"
    },
    {
     "name": "stdout",
     "output_type": "stream",
     "text": [
      "Predicted digit is : [[2]]\n",
      "True digit is: 2\n"
     ]
    },
    {
     "data": {
      "text/plain": [
       "<Figure size 432x288 with 0 Axes>"
      ]
     },
     "metadata": {},
     "output_type": "display_data"
    },
    {
     "data": {
      "image/png": "[encoded data removed]",
      "text/plain": [
       "<Figure size 288x288 with 1 Axes>"
      ]
     },
     "metadata": {
      "needs_background": "light"
     },
     "output_type": "display_data"
    },
    {
     "name": "stdout",
     "output_type": "stream",
     "text": [
      "Predicted digit is : [[9]]\n",
      "True digit is: 9\n"
     ]
    }
   ],
   "source": [
    "for j in range(15):\n",
    "    i=random.randint(0,n_samples)\n",
    "    pl.gray()\n",
    "    pl.matshow(digits.images[i])\n",
    "    pl.show()\n",
    "    img=digits.images[i].reshape((64,1)).T\n",
    "    img = sc.transform(img)\n",
    "    img=img.T\n",
    "    predicted_digit=predict_L_layer(img,parameters)\n",
    "    print('Predicted digit is : '+str(predicted_digit))\n",
    "    print('True digit is: '+ str(y[i]))"
   ]
  },
  {
   "cell_type": "code",
   "execution_count": null,
   "id": "f64bfc3a-f715-4e2e-a1c3-3b5704c3b5a4",
   "metadata": {},
   "outputs": [],
   "source": []
  },
  {
   "cell_type": "code",
   "execution_count": null,
   "id": "329a8887-38af-45bd-aae1-c6ca9d7b4fa8",
   "metadata": {},
   "outputs": [],
   "source": []
  }
 ],
 "metadata": {
  "kernelspec": {
   "display_name": "Python 3",
   "language": "python",
   "name": "python3"
  },
  "language_info": {
   "codemirror_mode": {
    "name": "ipython",
    "version": 3
   },
   "file_extension": ".py",
   "mimetype": "text/x-python",
   "name": "python",
   "nbconvert_exporter": "python",
   "pygments_lexer": "ipython3",
   "version": "3.8.5"
  }
 },
 "nbformat": 4,
 "nbformat_minor": 5
}
